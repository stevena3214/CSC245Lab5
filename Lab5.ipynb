{
 "cells": [
  {
   "cell_type": "code",
   "execution_count": 2,
   "id": "initial_id",
   "metadata": {
    "collapsed": true,
    "ExecuteTime": {
     "end_time": "2024-04-24T21:24:13.936643500Z",
     "start_time": "2024-04-24T21:24:13.892192600Z"
    }
   },
   "outputs": [
    {
     "name": "stdout",
     "output_type": "stream",
     "text": [
      "<class 'pandas.core.frame.DataFrame'>\n",
      "RangeIndex: 891 entries, 0 to 890\n",
      "Data columns (total 15 columns):\n",
      " #   Column       Non-Null Count  Dtype  \n",
      "---  ------       --------------  -----  \n",
      " 0   survived     891 non-null    int64  \n",
      " 1   pclass       891 non-null    int64  \n",
      " 2   sex          891 non-null    object \n",
      " 3   age          714 non-null    float64\n",
      " 4   sibsp        891 non-null    int64  \n",
      " 5   parch        891 non-null    int64  \n",
      " 6   fare         891 non-null    float64\n",
      " 7   embarked     889 non-null    object \n",
      " 8   class        891 non-null    object \n",
      " 9   who          891 non-null    object \n",
      " 10  adult_male   891 non-null    bool   \n",
      " 11  deck         203 non-null    object \n",
      " 12  embark_town  889 non-null    object \n",
      " 13  alive        891 non-null    object \n",
      " 14  alone        891 non-null    bool   \n",
      "dtypes: bool(2), float64(2), int64(4), object(7)\n",
      "memory usage: 92.4+ KB\n",
      "None\n"
     ]
    }
   ],
   "source": [
    "import pandas as pd\n",
    "df = pd.read_csv('titanic.csv')\n",
    "print(df.info())"
   ]
  },
  {
   "cell_type": "code",
   "outputs": [
    {
     "name": "stdout",
     "output_type": "stream",
     "text": [
      "['survived', 'pclass', 'sex', 'age', 'sibsp', 'parch', 'fare', 'embarked', 'class', 'who', 'adult_male', 'deck', 'embark_town', 'alive', 'alone']\n",
      "(891, 15)\n",
      "survived         int64\n",
      "pclass           int64\n",
      "sex             object\n",
      "age            float64\n",
      "sibsp            int64\n",
      "parch            int64\n",
      "fare           float64\n",
      "embarked        object\n",
      "class           object\n",
      "who             object\n",
      "adult_male        bool\n",
      "deck            object\n",
      "embark_town     object\n",
      "alive           object\n",
      "alone             bool\n",
      "dtype: object\n"
     ]
    }
   ],
   "source": [
    "columns = df.columns.tolist()\n",
    "print(columns)\n",
    "shape = df.shape\n",
    "print(shape)\n",
    "types = df.dtypes\n",
    "print(types)"
   ],
   "metadata": {
    "collapsed": false,
    "ExecuteTime": {
     "end_time": "2024-04-24T21:27:49.059334200Z",
     "start_time": "2024-04-24T21:27:49.039592700Z"
    }
   },
   "id": "ae7ee4d4eff6ca96",
   "execution_count": 3
  },
  {
   "cell_type": "code",
   "outputs": [
    {
     "name": "stdout",
     "output_type": "stream",
     "text": [
      "Available Columns:\n",
      "Index(['survived', 'pclass', 'sex', 'age', 'sibsp', 'parch', 'fare',\n",
      "       'embarked', 'class', 'who', 'adult_male', 'deck', 'embark_town',\n",
      "       'alive', 'alone'],\n",
      "      dtype='object')\n",
      "\n",
      "Pivot Table with Multiple Indexes:\n",
      "                     fare\n",
      "sex    pclass            \n",
      "female 1       106.125798\n",
      "       2        21.970121\n",
      "       3        16.118810\n",
      "male   1        67.226127\n",
      "       2        19.741782\n",
      "       3        12.661633\n"
     ]
    }
   ],
   "source": [
    "import pandas as pd\n",
    "df = pd.read_csv('titanic.csv')\n",
    "\n",
    "# Check the available columns\n",
    "print(\"Available Columns:\")\n",
    "print(df.columns)\n",
    "pivot_table = df.pivot_table(index=['sex', 'pclass'], values = 'fare', aggfunc='mean')\n",
    "print(\"\\nPivot Table with Multiple Indexes:\")\n",
    "print(pivot_table)"
   ],
   "metadata": {
    "collapsed": false,
    "ExecuteTime": {
     "end_time": "2024-04-25T16:25:14.565692400Z",
     "start_time": "2024-04-25T16:25:14.550899900Z"
    }
   },
   "id": "82f8f91558d245ec",
   "execution_count": 16
  },
  {
   "cell_type": "code",
   "outputs": [
    {
     "name": "stdout",
     "output_type": "stream",
     "text": [
      "pclass         1         2         3\n",
      "sex                                 \n",
      "female  0.968085  0.921053  0.500000\n",
      "male    0.368852  0.157407  0.135447\n"
     ]
    }
   ],
   "source": [
    "pivot_table = df.pivot_table(index='sex', columns='pclass', values='survived', aggfunc='mean')\n",
    "print(pivot_table)"
   ],
   "metadata": {
    "collapsed": false,
    "ExecuteTime": {
     "end_time": "2024-04-25T16:27:18.338975900Z",
     "start_time": "2024-04-25T16:27:18.320656200Z"
    }
   },
   "id": "ef58f4b99e5aeddf",
   "execution_count": 17
  },
  {
   "cell_type": "code",
   "outputs": [
    {
     "name": "stdout",
     "output_type": "stream",
     "text": [
      "        survived\n",
      "sex             \n",
      "female  0.742038\n",
      "male    0.188908\n"
     ]
    }
   ],
   "source": [
    "pivot_table = df.pivot_table(index='sex', values='survived', aggfunc='mean')\n",
    "print(pivot_table)"
   ],
   "metadata": {
    "collapsed": false,
    "ExecuteTime": {
     "end_time": "2024-04-25T16:29:50.000724500Z",
     "start_time": "2024-04-25T16:29:49.989990100Z"
    }
   },
   "id": "167c69f5b563c63f",
   "execution_count": 18
  },
  {
   "cell_type": "code",
   "outputs": [
    {
     "name": "stdout",
     "output_type": "stream",
     "text": [
      "pclass                   1         2         3\n",
      "sex    age                                    \n",
      "female (0, 18]    0.909091  1.000000  0.511628\n",
      "       (18, 35]   0.972222  0.925000  0.500000\n",
      "       (35, 50]   0.960000  0.882353  0.142857\n",
      "       (50, 100]  1.000000  0.666667  1.000000\n",
      "male   (0, 18]    0.800000  0.600000  0.215686\n",
      "       (18, 35]   0.500000  0.074074  0.155844\n",
      "       (35, 50]   0.400000  0.055556  0.076923\n",
      "       (50, 100]  0.192308  0.083333  0.000000\n"
     ]
    },
    {
     "name": "stderr",
     "output_type": "stream",
     "text": [
      "C:\\Users\\USER\\AppData\\Local\\Temp\\ipykernel_26180\\3059312442.py:1: FutureWarning: The default value of observed=False is deprecated and will change to observed=True in a future version of pandas. Specify observed=False to silence this warning and retain the current behavior\n",
      "  pivot_table = df.pivot_table(index=['sex', pd.cut(df['age'], bins=[0, 18, 35, 50, 100])],\n"
     ]
    }
   ],
   "source": [
    "pivot_table = df.pivot_table(index=['sex', pd.cut(df['age'], bins=[0, 18, 35, 50, 100])], \n",
    "                             columns='pclass', \n",
    "                             values='survived', \n",
    "                             aggfunc='mean')\n",
    "print(pivot_table)"
   ],
   "metadata": {
    "collapsed": false,
    "ExecuteTime": {
     "end_time": "2024-04-25T16:32:09.194949300Z",
     "start_time": "2024-04-25T16:32:09.173915300Z"
    }
   },
   "id": "41a0bcc0671fcca9",
   "execution_count": 21
  },
  {
   "cell_type": "code",
   "outputs": [
    {
     "name": "stdout",
     "output_type": "stream",
     "text": [
      "    age Age_Category\n",
      "0  22.0        10-30\n",
      "1  38.0        30-60\n",
      "2  26.0        10-30\n",
      "3  35.0        30-60\n",
      "4  35.0        30-60\n"
     ]
    }
   ],
   "source": [
    "df = pd.read_csv('titanic.csv')\n",
    "\n",
    "# Define age categories\n",
    "age_bins = [0, 10, 30, 60, 80]\n",
    "\n",
    "# Define labels for the age categories\n",
    "age_labels = ['0-10', '10-30', '30-60', '60-80']\n",
    "\n",
    "# Create a new column 'Age_Category' based on the age bins\n",
    "df['Age_Category'] = pd.cut(df['age'], bins=age_bins, labels=age_labels, right=False)\n",
    "\n",
    "# Display the DataFrame with the new 'Age_Category' column\n",
    "print(df[['age', 'Age_Category']].head())\n"
   ],
   "metadata": {
    "collapsed": false,
    "ExecuteTime": {
     "end_time": "2024-04-25T16:35:33.449667Z",
     "start_time": "2024-04-25T16:35:33.427804700Z"
    }
   },
   "id": "4d979ff5b1e361ee",
   "execution_count": 23
  },
  {
   "cell_type": "code",
   "outputs": [
    {
     "name": "stdout",
     "output_type": "stream",
     "text": [
      "Age_Category   0-10  10-30  30-60  60-80\n",
      "pclass sex                              \n",
      "1      female     1     29     52      3\n",
      "       male       2     23     62     13\n",
      "2      female     8     33     33      0\n",
      "       male       9     38     48      4\n",
      "3      female    21     55     25      1\n",
      "       male      21    144     84      4\n"
     ]
    },
    {
     "name": "stderr",
     "output_type": "stream",
     "text": [
      "C:\\Users\\USER\\AppData\\Local\\Temp\\ipykernel_26180\\4284418904.py:6: FutureWarning: The default value of observed=False is deprecated and will change to observed=True in a future version of pandas. Specify observed=False to silence this warning and retain the current behavior\n",
      "  pivot_table = pd.pivot_table(df,\n"
     ]
    }
   ],
   "source": [
    "age_bins = [0, 10, 30, 60, 80]\n",
    "age_labels = ['0-10', '10-30', '30-60', '60-80']\n",
    "\n",
    "df['Age_Category'] = pd.cut(df['age'], bins=age_bins, labels=age_labels, right=False)\n",
    "\n",
    "pivot_table = pd.pivot_table(df, \n",
    "                              values='survived', \n",
    "                              index=['pclass', 'sex'], \n",
    "                              columns='Age_Category', \n",
    "                              aggfunc='count')\n",
    "\n",
    "print(pivot_table)"
   ],
   "metadata": {
    "collapsed": false,
    "ExecuteTime": {
     "end_time": "2024-04-25T16:38:10.464175400Z",
     "start_time": "2024-04-25T16:38:10.444681500Z"
    }
   },
   "id": "d28501bd2aa6befa",
   "execution_count": 24
  },
  {
   "cell_type": "code",
   "outputs": [
    {
     "name": "stdout",
     "output_type": "stream",
     "text": [
      "Age_Category       0-10     10-30     30-60     60-80\n",
      "pclass sex                                           \n",
      "1      female  0.000000  0.965517  0.980769  1.000000\n",
      "       male    1.000000  0.478261  0.403226  0.076923\n",
      "2      female  1.000000  0.909091  0.909091       NaN\n",
      "       male    1.000000  0.026316  0.083333  0.250000\n",
      "3      female  0.523810  0.509091  0.280000  1.000000\n",
      "       male    0.380952  0.138889  0.119048  0.000000\n"
     ]
    },
    {
     "name": "stderr",
     "output_type": "stream",
     "text": [
      "C:\\Users\\USER\\AppData\\Local\\Temp\\ipykernel_26180\\2624356748.py:7: FutureWarning: The default value of observed=False is deprecated and will change to observed=True in a future version of pandas. Specify observed=False to silence this warning and retain the current behavior\n",
      "  pivot_table = pd.pivot_table(df,\n"
     ]
    }
   ],
   "source": [
    "age_bins = [0, 10, 30, 60, 80]\n",
    "age_labels = ['0-10', '10-30', '30-60', '60-80']\n",
    "\n",
    "# Create a new column 'Age_Category' based on the age bins\n",
    "df['Age_Category'] = pd.cut(df['age'], bins=age_bins, labels=age_labels, right=False)\n",
    "\n",
    "pivot_table = pd.pivot_table(df, \n",
    "                              values='survived', \n",
    "                              index=['pclass', 'sex'], \n",
    "                              columns='Age_Category', \n",
    "                              aggfunc='mean')\n",
    "\n",
    "# Display the Pivot table\n",
    "print(pivot_table)"
   ],
   "metadata": {
    "collapsed": false,
    "ExecuteTime": {
     "end_time": "2024-04-25T16:41:37.483334100Z",
     "start_time": "2024-04-25T16:41:37.464237700Z"
    }
   },
   "id": "42bd5b4c1816a375",
   "execution_count": 25
  },
  {
   "cell_type": "code",
   "outputs": [],
   "source": [],
   "metadata": {
    "collapsed": false
   },
   "id": "fbd16d74e3e777ad"
  }
 ],
 "metadata": {
  "kernelspec": {
   "display_name": "Python 3",
   "language": "python",
   "name": "python3"
  },
  "language_info": {
   "codemirror_mode": {
    "name": "ipython",
    "version": 2
   },
   "file_extension": ".py",
   "mimetype": "text/x-python",
   "name": "python",
   "nbconvert_exporter": "python",
   "pygments_lexer": "ipython2",
   "version": "2.7.6"
  }
 },
 "nbformat": 4,
 "nbformat_minor": 5
}
